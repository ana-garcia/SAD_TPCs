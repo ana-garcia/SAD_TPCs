{
  "nbformat": 4,
  "nbformat_minor": 0,
  "metadata": {
    "colab": {
      "name": "TPC_2.ipynb",
      "version": "0.3.2",
      "provenance": [],
      "collapsed_sections": [],
      "include_colab_link": true
    },
    "kernelspec": {
      "display_name": "Python 3",
      "language": "python",
      "name": "python3"
    }
  },
  "cells": [
    {
      "cell_type": "markdown",
      "metadata": {
        "id": "view-in-github",
        "colab_type": "text"
      },
      "source": [
        "<a href=\"https://colab.research.google.com/github/ana-garcia/SAD_TPCs/blob/master/TPC_2.ipynb\" target=\"_parent\"><img src=\"https://colab.research.google.com/assets/colab-badge.svg\" alt=\"Open In Colab\"/></a>"
      ]
    },
    {
      "metadata": {
        "id": "GmCJHXhQNgvV",
        "colab_type": "text"
      },
      "cell_type": "markdown",
      "source": [
        "# SAD - TPC 2\n",
        "\n",
        "### Dominar a linguagem Python 2\n",
        "\n",
        "----\n",
        "\n",
        "\n",
        "Uma cada carta é identificada pelo seu numero\n",
        "\n",
        "- 1,2,3,4,5,6,7,8,9,10,D,V,R (sendo os ultimos dama, valete e rei)\n",
        "\n",
        "e pelo seu naipe \n",
        "\n",
        "- copas(C); paus (P); Ouros (O); Espadas (E)\n",
        "\n",
        "Um exemplo de uma carta seria **E10** ou **PR**\n",
        "\n",
        "Considere um conjunto de N cartas definido numa lista A. \n",
        "\n",
        "Por exemplo, \n",
        "\n",
        "A = [P10, E9, C1]\n",
        "\n",
        "ou \n",
        "\n",
        "A = [\"1P\", \"1C\", \"1O\", \"2P\", \"2C\", \"2O\", \"2E\", \"3P\", \"3C\", \"3O\", \n",
        "     \"3E\", \"4P\", \"4C\", \"4O\", \"4E\", \"5P\", \"5C\", \"5O\", \"5E\", \"6P\", \"6C\", \"6O\", \n",
        "     \"6E\", \"7P\", \"7C\", \"7O\", \"7E\", \"8P\", \"8C\", \"8O\", \"8E\", \"9P\", \"9C\", \"9O\", \"9E\", \"DP\", \n",
        "     \"DC\", \"DO\", \"DE\", \"JP\", \"JC\", \"JO\", \"JE\", \"VP\", \"VC\", \"VO\", \"VE\", \"RP\", \"RC\", \"RO\", \"RE\", \n",
        "     \"1P\", \"1C\", \"1O\", \"1E\", \"2P\", \"2C\", \"2O\", \"2E\", \"3P\", \"3C\", \"3O\", \"3E\", \n",
        "     \"4P\", \"4C\", \"4O\", \"4E\", \"5P\", \"5C\", \"5O\", \"5E\", \"6P\", \"6C\", \"6O\", \"6E\", \"7P\", \"7C\", \n",
        "     \"7O\", \"7E\", \"8P\", \"8C\", \"8O\", \"8E\", \"9P\", \"9C\", \"9O\", \"9E\", \"DP\", \"DC\", \"DO\", \"DE\", \n",
        "     \"JP\", \"JC\", \"JO\", \"JE\", \"VP\", \"VC\", \"VO\", \"VE\", \"RP\", \"RC\", \"RO\", \"RE\", \"1P\", \"1C\", \n",
        "     \"1O\", \"1E\", \"2P\", \"2C\", \"2O\", \"2E\", \"3P\", \"3C\", \"3O\", \"3E\", \"4P\", \"4C\", \"4O\", \"4E\", \n",
        "     \"5P\", \"5C\", \"5O\", \"5E\", \"6P\", \"6C\", \"6O\", \"6E\", \"7P\", \"7C\", \"7O\", \"7E\", \"8P\", \"8C\", \n",
        "     \"8O\", \"8E\", \"9P\", \"9C\", \"9O\", \"9E\", \"DP\", \"DC\", \"DO\", \"DE\", \"JP\", \"JC\", \"JO\", \"JE\", \n",
        "     \"VP\", \"VC\", \"VO\", \"VE\", \"RP\", \"RC\", \"RO\", \"RE\"]\n",
        "\n",
        "\n",
        "ou \n",
        "\n",
        "\n",
        "\n",
        "\n",
        "Crie uma função que retorne o número de baralhos completos (com todas as cartas) existentes nessa lista."
      ]
    },
    {
      "metadata": {
        "id": "UZw_2v7IN_Ws",
        "colab_type": "code",
        "colab": {}
      },
      "cell_type": "code",
      "source": [
        ""
      ],
      "execution_count": 0,
      "outputs": []
    },
    {
      "metadata": {
        "id": "dJm3veZhNgvZ",
        "colab_type": "code",
        "colab": {
          "base_uri": "https://localhost:8080/",
          "height": 70
        },
        "outputId": "db166b45-37a2-426b-975e-1d5fc213d424"
      },
      "cell_type": "code",
      "source": [
        "\n",
        "def deckSolutions(listOfCards):\n",
        "\n",
        "   \n",
        "    #deck dictionary\n",
        "    deck = {\"1C\":0, \"2C\":0, \"3C\":0, \"4C\":0, \"5C\":0, \"6C\":0, \"7C\":0, \"8C\":0, \"9C\":0, \"10C\":0, \"DC\":0, \"VC\":0, \"RC\":0,\n",
        "           \"1P\":0, \"2P\":0, \"3P\":0, \"4P\":0, \"5P\":0, \"6P\":0, \"7P\":0, \"8P\":0, \"9P\":0, \"10P\":0, \"DP\":0, \"VP\":0, \"RP\":0,\n",
        "           \"1O\":0, \"2O\":0, \"3O\":0, \"4O\":0, \"5O\":0, \"6O\":0, \"7O\":0, \"8O\":0, \"9O\":0, \"10O\":0, \"DO\":0, \"VO\":0, \"RO\":0,\n",
        "           \"1E\":0, \"2E\":0, \"3E\":0, \"4E\":0, \"5E\":0, \"6E\":0, \"7E\":0, \"8E\":0, \"9E\":0, \"10E\":0, \"DE\":0, \"VE\":0, \"RE\":0}\n",
        "    \n",
        "    #list of all cards that exist in the deck\n",
        "    cards = deck.keys()\n",
        "    \n",
        "    #read the List of card\n",
        "    for card in listOfCards:\n",
        "        \n",
        "        #condition to check if the card is valid / exists\n",
        "        if card in cards:\n",
        "            #add one card\n",
        "           deck[card] += 1\n",
        "\n",
        "\n",
        "    #list of all values - number of cards for each one\n",
        "    cardsNumberList = deck.values()\n",
        "    #the resolt of how many decks is in the min value\n",
        "    result = min(cardsNumberList)\n",
        "    #print the result\n",
        "    print(result)\n",
        "    #print(deck)\n",
        "    \n",
        "    \n",
        "#test result 3\n",
        "A = [\"1P\", \"1C\", \"1O\", \"2P\", \"2C\", \"2O\", \"2E\", \"3P\", \"3C\", \"3O\", \n",
        "     \"3E\", \"4P\", \"4C\", \"4O\", \"4E\", \"5P\", \"5C\", \"5O\", \"5E\", \"6P\", \"6C\", \"6O\", \n",
        "     \"6E\", \"7P\", \"7C\", \"7O\", \"7E\", \"8P\", \"8C\", \"8O\", \"8E\", \"9P\", \"9C\", \"9O\", \"9E\", \"DP\", \n",
        "     \"DC\", \"DO\", \"DE\", \"JP\", \"JC\", \"JO\", \"JE\", \"VP\", \"VC\", \"VO\", \"VE\", \"RP\", \"RC\", \"RO\", \"RE\", \n",
        "     \"1P\", \"1C\", \"1O\", \"1E\", \"2P\", \"2C\", \"2O\", \"2E\", \"3P\", \"3C\", \"3O\", \"3E\", \n",
        "     \"4P\", \"4C\", \"4O\", \"4E\", \"5P\", \"5C\", \"5O\", \"5E\", \"6P\", \"6C\", \"6O\", \"6E\", \"7P\", \"7C\", \n",
        "     \"7O\", \"7E\", \"8P\", \"8C\", \"8O\", \"8E\", \"9P\", \"9C\", \"9O\", \"9E\", \"DP\", \"DC\", \"DO\", \"DE\", \n",
        "     \"JP\", \"JC\", \"JO\", \"JE\", \"VP\", \"VC\", \"VO\", \"VE\", \"RP\", \"RC\", \"RO\", \"RE\", \"1P\", \"1C\", \n",
        "     \"1O\", \"1E\", \"2P\", \"2C\", \"2O\", \"2E\", \"3P\", \"3C\", \"3O\", \"3E\", \"4P\", \"4C\", \"4O\", \"4E\", \n",
        "     \"5P\", \"5C\", \"5O\", \"5E\", \"6P\", \"6C\", \"6O\", \"6E\", \"7P\", \"7C\", \"7O\", \"7E\", \"8P\", \"8C\", \n",
        "     \"8O\", \"8E\", \"9P\", \"9C\", \"9O\", \"9E\", \"DP\", \"DC\", \"DO\", \"DE\", \"JP\", \"JC\", \"JO\", \"JE\", \n",
        "     \"VP\", \"VC\", \"VO\", \"VE\", \"RP\", \"RC\", \"RO\", \"RE\",\n",
        "     \"10C\", \"10P\", \"10O\", \"10E\", \"10C\", \"10P\", \"10O\", \"10E\", \"10C\", \"10P\", \"10O\", \"10E\", \"1E\"]\n",
        "\n",
        "#test result 0\n",
        "#A = [\"1P\", \"1C\", \"1O\", \"2P\", \"2C\", \"2O\", \"2E\", \"3P\", \"3C\", \"3O\", \n",
        "#     \"3E\", \"4P\", \"4C\", \"4O\", \"4E\", \"5P\", \"5C\", \"5O\", \"5E\", \"6P\", \"6C\", \"6O\", \n",
        "#     \"6E\", \"7P\", \"7C\", \"7O\", \"7E\", \"8P\", \"8C\", \"8O\", \"8E\", \"9P\", \"9C\", \"9O\", \"9E\", \"DP\", \n",
        "#     \"DC\", \"DO\", \"DE\", \"JP\", \"JC\", \"JO\", \"JE\", \"VP\", \"VC\", \"VO\", \"VE\", \"RP\", \"RC\", \"RO\", \"RE\", \n",
        "#     \"1P\", \"1C\", \"1O\", \"1E\", \"2P\", \"2C\", \"2O\", \"2E\", \"3P\", \"3C\", \"3O\", \"3E\", \n",
        "#     \"4P\", \"4C\", \"4O\", \"4E\", \"5P\", \"5C\", \"5O\", \"5E\", \"6P\", \"6C\", \"6O\", \"6E\", \"7P\", \"7C\", \n",
        "#     \"7O\", \"7E\", \"8P\", \"8C\", \"8O\", \"8E\", \"9P\", \"9C\", \"9O\", \"9E\", \"DP\", \"DC\", \"DO\", \"DE\", \n",
        "#     \"JP\", \"JC\", \"JO\", \"JE\", \"VP\", \"VC\", \"VO\", \"VE\", \"RP\", \"RC\", \"RO\", \"RE\", \"1P\", \"1C\", \n",
        "#     \"1O\", \"1E\", \"2P\", \"2C\", \"2O\", \"2E\", \"3P\", \"3C\", \"3O\", \"3E\", \"4P\", \"4C\", \"4O\", \"4E\", \n",
        "#     \"5P\", \"5C\", \"5O\", \"5E\", \"6P\", \"6C\", \"6O\", \"6E\", \"7P\", \"7C\", \"7O\", \"7E\", \"8P\", \"8C\", \n",
        "#     \"8O\", \"8E\", \"9P\", \"9C\", \"9O\", \"9E\", \"DP\", \"DC\", \"DO\", \"DE\", \"JP\", \"JC\", \"JO\", \"JE\", \n",
        "\n",
        "deckSolutions(A)\n",
        "\n",
        "\n"
      ],
      "execution_count": 4,
      "outputs": [
        {
          "output_type": "stream",
          "text": [
            "3\n",
            "{'1C': 3, '2C': 3, '3C': 3, '4C': 3, '5C': 3, '6C': 3, '7C': 3, '8C': 3, '9C': 3, '10C': 3, 'DC': 3, 'VC': 3, 'RC': 3, '1P': 3, '2P': 3, '3P': 3, '4P': 3, '5P': 3, '6P': 3, '7P': 3, '8P': 3, '9P': 3, '10P': 3, 'DP': 3, 'VP': 3, 'RP': 3, '1O': 3, '2O': 3, '3O': 3, '4O': 3, '5O': 3, '6O': 3, '7O': 3, '8O': 3, '9O': 3, '10O': 3, 'DO': 3, 'VO': 3, 'RO': 3, '1E': 3, '2E': 3, '3E': 3, '4E': 3, '5E': 3, '6E': 3, '7E': 3, '8E': 3, '9E': 3, '10E': 3, 'DE': 3, 'VE': 3, 'RE': 3}\n"
          ],
          "name": "stdout"
        }
      ]
    }
  ]
}