{
  "nbformat": 4,
  "nbformat_minor": 0,
  "metadata": {
    "colab": {
      "name": "TPC1.ipynb",
      "version": "0.3.2",
      "provenance": [],
      "collapsed_sections": [],
      "include_colab_link": true
    },
    "kernelspec": {
      "name": "python2",
      "display_name": "Python 2"
    }
  },
  "cells": [
    {
      "cell_type": "markdown",
      "metadata": {
        "id": "view-in-github",
        "colab_type": "text"
      },
      "source": [
        "[View in Colaboratory](https://colab.research.google.com/github/ana-garcia/SAD_TPCs/blob/master/TPC1.ipynb)"
      ]
    },
    {
      "metadata": {
        "id": "8qeyc9NFKcLV",
        "colab_type": "text"
      },
      "cell_type": "markdown",
      "source": [
        "# TPC 0 (entrega na próxima aula - 20 min MAX)\n",
        "\n",
        "### Dominar a linguagem Python\n",
        "#### ENTREGA 22/10/2018\n",
        "\n",
        "----\n",
        "\n",
        "Uma string S composta de N caracteres é considerada como correta se qualquer uma das seguintes condições for verdadeira:\n",
        "\n",
        "- S for vazia;\n",
        "- S tem a forma \"(U)\" ou \"[U]\" ou \"{U}\" onde U é também uma string correta;\n",
        "- S tem a forma \"VW\" onde V e W são strings corretas.\n",
        "\n",
        "\n",
        "Por exemplo, a string \"{[() ()]}\" é considerada correta, mas \"([) ()]\" não é.\n",
        "\n",
        "Escreva uma função:\n",
        "\n",
        "```def solution(S)```\n",
        "\n",
        "que, dada uma sequência S com N caracteres, retorna 1 se S estiver correta e 0 caso contrário.\n",
        "\n",
        "Por exemplo, dado S = \"{[() ()]}\", a função deve retornar 1 e dado S = \"([) ()]\", a função deve retornar 0, como explicado acima.\n",
        "\n",
        "Assuma que:\n",
        "\n",
        "- N é um número inteiro dentro do intervalo [0..200,000];\n",
        "- A string S consiste apenas nos seguintes caracteres: \"(\", \"{\", \"[\", \"]\", \"}\" e / ou \")\".\n",
        "\n",
        "-------\n",
        "\n",
        "#### Resolução:\n",
        "\n",
        "- Pilha "
      ]
    },
    {
      "metadata": {
        "id": "9hEU9lWBKprd",
        "colab_type": "code",
        "outputId": "1db92055-3c07-4792-a541-f27fd58b1f1a",
        "colab": {
          "base_uri": "https://localhost:8080/",
          "height": 34
        }
      },
      "cell_type": "code",
      "source": [
        "\n",
        "def solution(S):\n",
        "    #se S for vazio, a pilha vai ficar vazia e no final retorna 1\n",
        "    \n",
        "    #criar pilha auxiliar\n",
        "    pilha = []\n",
        "    \n",
        "    #ler valores de string char em char\n",
        "    for s in S:\n",
        "        #se e' abrir empilha\n",
        "        if(s==\"(\" or s==\"{\" or s==\"[\"): \n",
        "            pilha.append(s)\n",
        "            \n",
        "        else:\n",
        "            #se e' fechar, 1 verifica se a pilha esta vazia pinta 0 e termina\n",
        "            # 2 se pilha nao vazia desempilha e confirma se é par\n",
        "            if(s==\")\"):\n",
        "                if(len(pilha) == 0):\n",
        "                    print(0)\n",
        "                    return\n",
        "                else:\n",
        "                    if(pilha.pop() != \"(\"):\n",
        "                        print(0)\n",
        "                        return\n",
        "            elif(s==\"}\"):\n",
        "                if(len(pilha)== 0):\n",
        "                    print(0)\n",
        "                    return\n",
        "                else:\n",
        "                    if (pilha.pop() != \"{\"):\n",
        "                        print(0)\n",
        "                        return\n",
        "            elif (s==\"]\"):\n",
        "                if(len(pilha)== 0):\n",
        "                    print(0)\n",
        "                    return\n",
        "                else:\n",
        "                    if (pilha.pop() != \"[\"):\n",
        "                        print(0)\n",
        "                        return\n",
        "                \n",
        "                \n",
        "    if(len(pilha) == 0):\n",
        "        print(1)\n",
        "    else:\n",
        "        print(0)\n",
        "        \n",
        "\n",
        "\n",
        "A=\"(a)\"\n",
        "\n",
        "solution(A)\n",
        "    \n",
        "  \n",
        "  "
      ],
      "execution_count": 16,
      "outputs": [
        {
          "output_type": "stream",
          "text": [
            "1\n"
          ],
          "name": "stdout"
        }
      ]
    }
  ]
}