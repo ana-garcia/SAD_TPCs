{
  "nbformat": 4,
  "nbformat_minor": 0,
  "metadata": {
    "colab": {
      "name": "TPC_3.ipynb",
      "version": "0.3.2",
      "provenance": [],
      "collapsed_sections": [],
      "include_colab_link": true
    },
    "kernelspec": {
      "display_name": "SADenv",
      "language": "python",
      "name": "sadenv"
    }
  },
  "cells": [
    {
      "cell_type": "markdown",
      "metadata": {
        "id": "view-in-github",
        "colab_type": "text"
      },
      "source": [
        "<a href=\"https://colab.research.google.com/github/ana-garcia/SAD_TPCs/blob/master/TPC_3.ipynb\" target=\"_parent\"><img src=\"https://colab.research.google.com/assets/colab-badge.svg\" alt=\"Open In Colab\"/></a>"
      ]
    },
    {
      "metadata": {
        "id": "4Jak_FspPqmV",
        "colab_type": "text"
      },
      "cell_type": "markdown",
      "source": [
        "\n",
        "# Sistemas de Suporte à Decisão\n",
        "\n",
        "---------------\n",
        "\n",
        "# TPC 3\n",
        "\n",
        "\n",
        "Crie um ficheiro em python para trabalhar o dataset \n",
        "\n",
        "```python \n",
        "    datasets.california_housing\n",
        "```\n",
        "\n",
        "Nesse ficheiro, crie um script (função) por alínea que lhe permita gerar novos datasets a partir do dataset principal, onde tenha usado cada um dos seguintes métodos de pre-processamento: \n",
        "\n",
        "    1) Aggregation\n",
        "    2) Sampling\n",
        "    4) Dimensionality Reduction \n",
        "    5) Feature Subset Selection \n",
        "    6) Feature Creation \n",
        "    7) Discretization and Binarization \n",
        "    8) Attribute Transformation\n",
        "\n",
        "\n",
        "O que é feito em cada caso, é da sua inteira liberdade. \n",
        "\n",
        "\n"
      ]
    },
    {
      "metadata": {
        "id": "KNBOvOqZbd3t",
        "colab_type": "code",
        "colab": {}
      },
      "cell_type": "code",
      "source": [
        "# Start by importing the modules\n",
        "\n",
        "from sklearn import datasets\n",
        "import pandas as pd\n",
        "import numpy as np\n",
        "import matplotlib.pyplot as plt\n",
        "\n",
        "#importing the dataset\n",
        "data = datasets.california_housing.fetch_california_housing()\n"
      ],
      "execution_count": 0,
      "outputs": []
    },
    {
      "metadata": {
        "id": "9nDs7AVybZlv",
        "colab_type": "text"
      },
      "cell_type": "markdown",
      "source": [
        "Aggregation"
      ]
    },
    {
      "metadata": {
        "id": "HFEv8x3IbcIL",
        "colab_type": "code",
        "outputId": "a8a56923-8d8e-4c6f-b344-1896447db478",
        "colab": {
          "base_uri": "https://localhost:8080/",
          "height": 284
        }
      },
      "cell_type": "code",
      "source": [
        "alldata = np.column_stack((data.data,data.target))\n",
        "allnames = np.append(data.feature_names,\"Classe\")\n",
        "dframe = pd.DataFrame(alldata, columns=allnames)\n",
        " \n",
        "\n",
        "stat = dframe.groupby(dframe[\"Classe\"].round()).agg([\"mean\"])\n",
        "stat"
      ],
      "execution_count": 3,
      "outputs": [
        {
          "output_type": "execute_result",
          "data": {
            "text/html": [
              "<div>\n",
              "<style scoped>\n",
              "    .dataframe tbody tr th:only-of-type {\n",
              "        vertical-align: middle;\n",
              "    }\n",
              "\n",
              "    .dataframe tbody tr th {\n",
              "        vertical-align: top;\n",
              "    }\n",
              "\n",
              "    .dataframe thead tr th {\n",
              "        text-align: left;\n",
              "    }\n",
              "\n",
              "    .dataframe thead tr:last-of-type th {\n",
              "        text-align: right;\n",
              "    }\n",
              "</style>\n",
              "<table border=\"1\" class=\"dataframe\">\n",
              "  <thead>\n",
              "    <tr>\n",
              "      <th></th>\n",
              "      <th>MedInc</th>\n",
              "      <th>HouseAge</th>\n",
              "      <th>AveRooms</th>\n",
              "      <th>AveBedrms</th>\n",
              "      <th>Population</th>\n",
              "      <th>AveOccup</th>\n",
              "      <th>Latitude</th>\n",
              "      <th>Longitude</th>\n",
              "      <th>Classe</th>\n",
              "    </tr>\n",
              "    <tr>\n",
              "      <th></th>\n",
              "      <th>mean</th>\n",
              "      <th>mean</th>\n",
              "      <th>mean</th>\n",
              "      <th>mean</th>\n",
              "      <th>mean</th>\n",
              "      <th>mean</th>\n",
              "      <th>mean</th>\n",
              "      <th>mean</th>\n",
              "      <th>mean</th>\n",
              "    </tr>\n",
              "    <tr>\n",
              "      <th>Classe</th>\n",
              "      <th></th>\n",
              "      <th></th>\n",
              "      <th></th>\n",
              "      <th></th>\n",
              "      <th></th>\n",
              "      <th></th>\n",
              "      <th></th>\n",
              "      <th></th>\n",
              "      <th></th>\n",
              "    </tr>\n",
              "  </thead>\n",
              "  <tbody>\n",
              "    <tr>\n",
              "      <th>0.0</th>\n",
              "      <td>1.764497</td>\n",
              "      <td>30.185714</td>\n",
              "      <td>5.029815</td>\n",
              "      <td>1.240071</td>\n",
              "      <td>1124.190476</td>\n",
              "      <td>3.484795</td>\n",
              "      <td>36.438238</td>\n",
              "      <td>-119.307429</td>\n",
              "      <td>0.433800</td>\n",
              "    </tr>\n",
              "    <tr>\n",
              "      <th>1.0</th>\n",
              "      <td>2.699116</td>\n",
              "      <td>27.662946</td>\n",
              "      <td>5.219423</td>\n",
              "      <td>1.130187</td>\n",
              "      <td>1381.181732</td>\n",
              "      <td>3.339910</td>\n",
              "      <td>36.201114</td>\n",
              "      <td>-119.605195</td>\n",
              "      <td>1.035113</td>\n",
              "    </tr>\n",
              "    <tr>\n",
              "      <th>2.0</th>\n",
              "      <td>3.780588</td>\n",
              "      <td>28.175842</td>\n",
              "      <td>5.232905</td>\n",
              "      <td>1.082492</td>\n",
              "      <td>1529.781978</td>\n",
              "      <td>3.072250</td>\n",
              "      <td>35.190148</td>\n",
              "      <td>-119.314191</td>\n",
              "      <td>1.941416</td>\n",
              "    </tr>\n",
              "    <tr>\n",
              "      <th>3.0</th>\n",
              "      <td>4.827580</td>\n",
              "      <td>28.694569</td>\n",
              "      <td>5.670862</td>\n",
              "      <td>1.053399</td>\n",
              "      <td>1469.216933</td>\n",
              "      <td>2.689606</td>\n",
              "      <td>35.493677</td>\n",
              "      <td>-119.887313</td>\n",
              "      <td>2.930416</td>\n",
              "    </tr>\n",
              "    <tr>\n",
              "      <th>4.0</th>\n",
              "      <td>5.478571</td>\n",
              "      <td>31.442294</td>\n",
              "      <td>5.970275</td>\n",
              "      <td>1.075931</td>\n",
              "      <td>1312.426523</td>\n",
              "      <td>2.907561</td>\n",
              "      <td>35.496595</td>\n",
              "      <td>-119.933140</td>\n",
              "      <td>3.899867</td>\n",
              "    </tr>\n",
              "    <tr>\n",
              "      <th>5.0</th>\n",
              "      <td>7.425310</td>\n",
              "      <td>33.533811</td>\n",
              "      <td>6.656651</td>\n",
              "      <td>1.090045</td>\n",
              "      <td>1145.303898</td>\n",
              "      <td>2.548488</td>\n",
              "      <td>35.230541</td>\n",
              "      <td>-119.696213</td>\n",
              "      <td>4.941340</td>\n",
              "    </tr>\n",
              "  </tbody>\n",
              "</table>\n",
              "</div>"
            ],
            "text/plain": [
              "          MedInc   HouseAge  AveRooms AveBedrms   Population  AveOccup  \\\n",
              "            mean       mean      mean      mean         mean      mean   \n",
              "Classe                                                                   \n",
              "0.0     1.764497  30.185714  5.029815  1.240071  1124.190476  3.484795   \n",
              "1.0     2.699116  27.662946  5.219423  1.130187  1381.181732  3.339910   \n",
              "2.0     3.780588  28.175842  5.232905  1.082492  1529.781978  3.072250   \n",
              "3.0     4.827580  28.694569  5.670862  1.053399  1469.216933  2.689606   \n",
              "4.0     5.478571  31.442294  5.970275  1.075931  1312.426523  2.907561   \n",
              "5.0     7.425310  33.533811  6.656651  1.090045  1145.303898  2.548488   \n",
              "\n",
              "         Latitude   Longitude    Classe  \n",
              "             mean        mean      mean  \n",
              "Classe                                   \n",
              "0.0     36.438238 -119.307429  0.433800  \n",
              "1.0     36.201114 -119.605195  1.035113  \n",
              "2.0     35.190148 -119.314191  1.941416  \n",
              "3.0     35.493677 -119.887313  2.930416  \n",
              "4.0     35.496595 -119.933140  3.899867  \n",
              "5.0     35.230541 -119.696213  4.941340  "
            ]
          },
          "metadata": {
            "tags": []
          },
          "execution_count": 3
        }
      ]
    },
    {
      "metadata": {
        "id": "VzGoR3i-b5K7",
        "colab_type": "text"
      },
      "cell_type": "markdown",
      "source": [
        "Sampling"
      ]
    },
    {
      "metadata": {
        "id": "XrO7SwNeP1nY",
        "colab_type": "code",
        "outputId": "bdc85972-8481-40f0-95c2-6b4b2e3cd26d",
        "colab": {
          "base_uri": "https://localhost:8080/",
          "height": 773
        }
      },
      "cell_type": "code",
      "source": [
        "#random subset of data\n",
        "random_subset = dframe.sample(n=10)\n",
        "print(random_subset)\n",
        "\n",
        "#sample rows with replacement\n",
        "sample_with_replacement = dframe.sample(n=3,replace=True)\n",
        "print(sample_with_replacement)\n",
        "\n",
        "#randomly select a percentage of rows\n",
        "fraction_of_rows = dframe.sample(frac=0.5)\n",
        "print(fraction_of_rows.head()) "
      ],
      "execution_count": 0,
      "outputs": [
        {
          "output_type": "stream",
          "text": [
            "       MedInc  HouseAge  AveRooms  AveBedrms  Population  AveOccup  Latitude  \\\n",
            "16231  3.0625      47.0  5.470113   1.071082      1228.0  1.983845     37.98   \n",
            "6342   1.9762      52.0  4.242754   1.152174      1126.0  4.079710     34.06   \n",
            "11116  4.0724      25.0  5.007792   1.075325       961.0  2.496104     33.84   \n",
            "17840  7.8532       8.0  6.961538   1.043956      1527.0  4.195055     37.44   \n",
            "4073   7.6290      34.0  6.006590   1.004942      1390.0  2.289951     34.14   \n",
            "12194  3.8056       7.0  6.599340   1.123660      7139.0  2.942704     33.63   \n",
            "101    3.2177      28.0  3.878424   1.070808      2563.0  1.712091     37.81   \n",
            "19056  4.8173      22.0  5.536232   0.944928      1001.0  2.901449     38.15   \n",
            "2330   1.9483      16.0  4.216693   0.983949      1054.0  1.691814     36.82   \n",
            "9115   5.9508      16.0  6.039906   1.002347      1273.0  2.988263     34.64   \n",
            "\n",
            "       Longitude   Classe  \n",
            "16231    -121.31  1.41500  \n",
            "6342     -117.75  1.05800  \n",
            "11116    -117.87  2.31400  \n",
            "17840    -121.89  4.22800  \n",
            "4073     -118.47  5.00001  \n",
            "12194    -117.29  1.62200  \n",
            "101      -122.25  2.73400  \n",
            "19056    -121.74  1.15800  \n",
            "2330     -119.72  1.12500  \n",
            "9115     -118.21  1.81100  \n",
            "       MedInc  HouseAge  AveRooms  AveBedrms  Population  AveOccup  Latitude  \\\n",
            "15127  2.8906      16.0  5.413043   1.034161       652.0  2.024845     32.85   \n",
            "17497  5.6604      22.0  6.266520   1.101322      1456.0  3.207048     34.43   \n",
            "5476   3.8750      52.0  4.577320   1.061856       376.0  1.938144     34.00   \n",
            "\n",
            "       Longitude  Classe  \n",
            "15127    -116.89   1.583  \n",
            "17497    -119.80   2.764  \n",
            "5476     -118.46   3.720  \n",
            "       MedInc  HouseAge  AveRooms  AveBedrms  Population  AveOccup  Latitude  \\\n",
            "3671   5.3500      35.0  5.400763   0.988550      1577.0  3.009542     34.21   \n",
            "11497  9.5268      13.0  7.139276   0.990251      2429.0  3.383008     33.67   \n",
            "19075  2.6520      17.0  5.248544   1.067961      1241.0  2.409709     38.30   \n",
            "4183   3.5893      48.0  5.625954   1.267176       462.0  3.526718     34.13   \n",
            "2691   1.9911      10.0  5.575668   1.148368      1376.0  4.083086     32.97   \n",
            "\n",
            "       Longitude  Classe  \n",
            "3671     -118.41   2.105  \n",
            "11497    -118.07   4.379  \n",
            "19075    -122.48   1.713  \n",
            "4183     -118.23   2.125  \n",
            "2691     -115.52   0.675  \n"
          ],
          "name": "stdout"
        }
      ]
    },
    {
      "metadata": {
        "id": "ccBw81OdccH6",
        "colab_type": "text"
      },
      "cell_type": "markdown",
      "source": [
        "  Análise dos dados - Normalização e Grandezas Estatísticas\n",
        "  -Medir a variância e a media, e normalizar os valores de cada feature"
      ]
    },
    {
      "metadata": {
        "id": "YayI_Q5xceQH",
        "colab_type": "code",
        "colab": {
          "base_uri": "https://localhost:8080/",
          "height": 34
        },
        "outputId": "2b3b9a2f-51f3-445a-c638-6b5d2d51bc52"
      },
      "cell_type": "code",
      "source": [
        "D = data.data\n",
        "D.shape[0]"
      ],
      "execution_count": 4,
      "outputs": [
        {
          "output_type": "execute_result",
          "data": {
            "text/plain": [
              "20640"
            ]
          },
          "metadata": {
            "tags": []
          },
          "execution_count": 4
        }
      ]
    },
    {
      "metadata": {
        "id": "o7jlh_0Q4BOI",
        "colab_type": "code",
        "colab": {
          "base_uri": "https://localhost:8080/",
          "height": 50
        },
        "outputId": "4db1f702-a851-48a8-c6d5-9a05bd1eb834"
      },
      "cell_type": "code",
      "source": [
        "N = D.shape[0]\n",
        "avg = D.mean(axis=0)\n",
        "avg"
      ],
      "execution_count": 5,
      "outputs": [
        {
          "output_type": "execute_result",
          "data": {
            "text/plain": [
              "array([ 3.87067100e+00,  2.86394864e+01,  5.42899974e+00,  1.09667515e+00,\n",
              "        1.42547674e+03,  3.07065516e+00,  3.56318614e+01, -1.19569704e+02])"
            ]
          },
          "metadata": {
            "tags": []
          },
          "execution_count": 5
        }
      ]
    },
    {
      "metadata": {
        "id": "IzY3H9DF4XnT",
        "colab_type": "code",
        "colab": {
          "base_uri": "https://localhost:8080/",
          "height": 101
        },
        "outputId": "1133a4ca-6987-4e38-8aab-2fcb89e2d958"
      },
      "cell_type": "code",
      "source": [
        "sigma_ = np.sqrt((np.power((D-avg),2)).sum(axis=0)/N)\n",
        "#ou \n",
        "sigma = D.std(axis=0)\n",
        "\n",
        "print(\"average: \\n--------\\n\",avg, \"\\n\")\n",
        "print(\"sigma: \\n--------\\n\",sigma, \"\\n\", sigma_)"
      ],
      "execution_count": 8,
      "outputs": [
        {
          "output_type": "stream",
          "text": [
            "('average: \\n--------\\n', array([ 3.87067100e+00,  2.86394864e+01,  5.42899974e+00,  1.09667515e+00,\n",
            "        1.42547674e+03,  3.07065516e+00,  3.56318614e+01, -1.19569704e+02]), '\\n')\n",
            "('sigma: \\n--------\\n', array([1.89977569e+00, 1.25852527e+01, 2.47411320e+00, 4.73899376e-01,\n",
            "       1.13243469e+03, 1.03857980e+01, 2.13590065e+00, 2.00348319e+00]), '\\n', array([1.89977569e+00, 1.25852527e+01, 2.47411320e+00, 4.73899376e-01,\n",
            "       1.13243469e+03, 1.03857980e+01, 2.13590065e+00, 2.00348319e+00]))\n"
          ],
          "name": "stdout"
        }
      ]
    },
    {
      "metadata": {
        "id": "Pe4dMlIi4qq6",
        "colab_type": "code",
        "colab": {
          "base_uri": "https://localhost:8080/",
          "height": 539
        },
        "outputId": "c2cb3ecb-3fa5-4204-c138-b97011aaeb47"
      },
      "cell_type": "code",
      "source": [
        "#Usando o dataFrame\n",
        "\n",
        "#N = dframe.shape[0]\n",
        "#med = dframe.agg(\"mean\")\n",
        "#print(\"Variances: \\n----------\\n\\n\",(np.power((dframe-med),2)).agg(\"sum\")/N)\n",
        "\n",
        "#normalizando:\n",
        "\n",
        "D_norm = (D-avg)/sigma\n",
        "\n",
        "#Feature 0 e 1\n",
        "plt.plot(D[:,2], D[:,3], \".\")\n",
        "plt.axes().set_aspect('equal')\n",
        "plt.show()\n",
        "\n",
        "plt.figure\n",
        "plt.plot(D_norm[:,2], D_norm[:,3], \".\")\n",
        "plt.axes().set_aspect('equal')\n",
        "plt.show()"
      ],
      "execution_count": 9,
      "outputs": [
        {
          "output_type": "stream",
          "text": [
            "/usr/local/lib/python2.7/dist-packages/matplotlib/cbook/deprecation.py:106: MatplotlibDeprecationWarning: Adding an axes using the same arguments as a previous axes currently reuses the earlier instance.  In a future version, a new instance will always be created and returned.  Meanwhile, this warning can be suppressed, and the future behavior ensured, by passing a unique label to each axes instance.\n",
            "  warnings.warn(message, mplDeprecation, stacklevel=1)\n"
          ],
          "name": "stderr"
        },
        {
          "output_type": "display_data",
          "data": {
            "image/png": "[encoded data removed]",
            "text/plain": [
              "<matplotlib.figure.Figure at 0x7f9de6b457d0>"
            ]
          },
          "metadata": {
            "tags": []
          }
        },
        {
          "output_type": "display_data",
          "data": {
            "image/png": "[encoded data removed]",
            "text/plain": [
              "<matplotlib.figure.Figure at 0x7f9de6e84d50>"
            ]
          },
          "metadata": {
            "tags": []
          }
        }
      ]
    },
    {
      "metadata": {
        "id": "Fpv8CVWI433B",
        "colab_type": "code",
        "colab": {
          "base_uri": "https://localhost:8080/",
          "height": 347
        },
        "outputId": "b660910f-de4d-4288-e492-65d0e63713b6"
      },
      "cell_type": "code",
      "source": [
        "#usando sklearn\n",
        "from sklearn import preprocessing\n",
        "\n",
        "stdscaler = preprocessing.StandardScaler()\n",
        "scaler = stdscaler.fit(D)\n",
        "D_norm = scaler.transform(D)\n",
        "\n",
        "plt.plot(D_norm[:,2], D_norm[:,3], \".\")\n",
        "plt.show()"
      ],
      "execution_count": 10,
      "outputs": [
        {
          "output_type": "display_data",
          "data": {
            "image/png": "[encoded data removed]",
            "text/plain": [
              "<matplotlib.figure.Figure at 0x7f9de7793ed0>"
            ]
          },
          "metadata": {
            "tags": []
          }
        }
      ]
    },
    {
      "metadata": {
        "id": "GhLm79ey5PGg",
        "colab_type": "text"
      },
      "cell_type": "markdown",
      "source": [
        "Sklearn Binarization"
      ]
    },
    {
      "metadata": {
        "id": "JSzwE5PT5Blf",
        "colab_type": "code",
        "colab": {
          "base_uri": "https://localhost:8080/",
          "height": 286
        },
        "outputId": "436b7a42-bff7-43c0-fb44-5a70233eb76a"
      },
      "cell_type": "code",
      "source": [
        "from sklearn import preprocessing\n",
        "\n",
        "binarizer = preprocessing.Binarizer().fit(D)\n",
        "print(binarizer)\n",
        "binarizer.threshold=3.5\n",
        "print(D[0:5,:])\n",
        "binarizer.transform(D)[:5,:]"
      ],
      "execution_count": 13,
      "outputs": [
        {
          "output_type": "stream",
          "text": [
            "Binarizer(copy=True, threshold=0.0)\n",
            "[[ 8.32520000e+00  4.10000000e+01  6.98412698e+00  1.02380952e+00\n",
            "   3.22000000e+02  2.55555556e+00  3.78800000e+01 -1.22230000e+02]\n",
            " [ 8.30140000e+00  2.10000000e+01  6.23813708e+00  9.71880492e-01\n",
            "   2.40100000e+03  2.10984183e+00  3.78600000e+01 -1.22220000e+02]\n",
            " [ 7.25740000e+00  5.20000000e+01  8.28813559e+00  1.07344633e+00\n",
            "   4.96000000e+02  2.80225989e+00  3.78500000e+01 -1.22240000e+02]\n",
            " [ 5.64310000e+00  5.20000000e+01  5.81735160e+00  1.07305936e+00\n",
            "   5.58000000e+02  2.54794521e+00  3.78500000e+01 -1.22250000e+02]\n",
            " [ 3.84620000e+00  5.20000000e+01  6.28185328e+00  1.08108108e+00\n",
            "   5.65000000e+02  2.18146718e+00  3.78500000e+01 -1.22250000e+02]]\n"
          ],
          "name": "stdout"
        },
        {
          "output_type": "execute_result",
          "data": {
            "text/plain": [
              "array([[1., 1., 1., 0., 1., 0., 1., 0.],\n",
              "       [1., 1., 1., 0., 1., 0., 1., 0.],\n",
              "       [1., 1., 1., 0., 1., 0., 1., 0.],\n",
              "       [1., 1., 1., 0., 1., 0., 1., 0.],\n",
              "       [1., 1., 1., 0., 1., 0., 1., 0.]])"
            ]
          },
          "metadata": {
            "tags": []
          },
          "execution_count": 13
        }
      ]
    },
    {
      "metadata": {
        "id": "lT_znA715Umk",
        "colab_type": "code",
        "colab": {
          "base_uri": "https://localhost:8080/",
          "height": 185
        },
        "outputId": "06fbdc25-6e95-4b8f-83c2-9c5e480fd8f8"
      },
      "cell_type": "code",
      "source": [
        "binarizer.transform(D[:,1].reshape(-1, 1))[:10,:]"
      ],
      "execution_count": 16,
      "outputs": [
        {
          "output_type": "execute_result",
          "data": {
            "text/plain": [
              "array([[1.],\n",
              "       [1.],\n",
              "       [1.],\n",
              "       [1.],\n",
              "       [1.],\n",
              "       [1.],\n",
              "       [1.],\n",
              "       [1.],\n",
              "       [1.],\n",
              "       [1.]])"
            ]
          },
          "metadata": {
            "tags": []
          },
          "execution_count": 16
        }
      ]
    }
  ]
}